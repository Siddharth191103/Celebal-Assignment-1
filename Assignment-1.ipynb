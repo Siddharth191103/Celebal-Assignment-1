{
 "cells": [
  {
   "cell_type": "code",
   "execution_count": 9,
   "id": "af0dd621-4a52-48f1-ba5f-35045bb64bcc",
   "metadata": {},
   "outputs": [
    {
     "name": "stdin",
     "output_type": "stream",
     "text": [
      "Enter number of rows:  5\n"
     ]
    },
    {
     "name": "stdout",
     "output_type": "stream",
     "text": [
      "Lower Triangular Pattern:\n",
      "* \n",
      "* * \n",
      "* * * \n",
      "* * * * \n",
      "* * * * * \n",
      "\n",
      "Upper Triangular Pattern:\n",
      "* * * * * \n",
      "* * * * \n",
      "* * * \n",
      "* * \n",
      "* \n",
      "\n",
      "Pyramid Pattern:\n",
      "    * \n",
      "   * * \n",
      "  * * * \n",
      " * * * * \n",
      "* * * * * \n",
      "\n"
     ]
    }
   ],
   "source": [
    "def lower_triangular(n):\n",
    "    print(\"Lower Triangular Pattern:\")\n",
    "    for i in range(1, n + 1):\n",
    "        print(\"* \" * i)\n",
    "    print()\n",
    "\n",
    "\n",
    "def upper_triangular(n):\n",
    "    print(\"Upper Triangular Pattern:\")\n",
    "    for i in range(n, 0, -1):\n",
    "        print(\"* \" * i)\n",
    "    print()\n",
    "\n",
    "\n",
    "def pyramid(n):\n",
    "    print(\"Pyramid Pattern:\")\n",
    "    for i in range(1, n + 1):\n",
    "        spaces = ' ' * (n - i)\n",
    "        stars = '* ' * i\n",
    "        print(spaces + stars)\n",
    "    print()\n",
    "\n",
    "try:\n",
    "    rows = int(input(\"Enter number of rows: \"))\n",
    "    lower_triangular(rows)\n",
    "    upper_triangular(rows)\n",
    "    pyramid(rows)\n",
    "except ValueError:\n",
    "    print(\"Please enter a valid integer.\")"
   ]
  },
  {
   "cell_type": "code",
   "execution_count": null,
   "id": "06a9c62c-2989-4ccd-a699-435bbaa70b2d",
   "metadata": {},
   "outputs": [],
   "source": []
  }
 ],
 "metadata": {
  "kernelspec": {
   "display_name": "Python [conda env:base] *",
   "language": "python",
   "name": "conda-base-py"
  },
  "language_info": {
   "codemirror_mode": {
    "name": "ipython",
    "version": 3
   },
   "file_extension": ".py",
   "mimetype": "text/x-python",
   "name": "python",
   "nbconvert_exporter": "python",
   "pygments_lexer": "ipython3",
   "version": "3.12.4"
  }
 },
 "nbformat": 4,
 "nbformat_minor": 5
}
